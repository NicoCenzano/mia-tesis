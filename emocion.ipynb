{
 "cells": [
  {
   "cell_type": "code",
   "execution_count": 6,
   "source": [
    "import pandas as pd"
   ],
   "outputs": [],
   "metadata": {}
  },
  {
   "cell_type": "code",
   "execution_count": 2,
   "source": [
    "import os \r\n",
    "cwd = os.getcwd()\r\n",
    "print(cwd)"
   ],
   "outputs": [
    {
     "output_type": "stream",
     "name": "stdout",
     "text": [
      "C:\\Users\\stcavale\\AppData\\Local\\Programs\\Microsoft VS Code\n"
     ]
    }
   ],
   "metadata": {}
  },
  {
   "cell_type": "code",
   "execution_count": 7,
   "source": [
    "tweets_df = pd.read_csv(\"C:/Users/stcavale/Desktop/TesisMaster/cleanText.csv\")\r\n",
    "\r\n",
    "\r\n",
    "# Are they the same?\r\n",
    "print(tweets_df)"
   ],
   "outputs": [
    {
     "output_type": "stream",
     "name": "stdout",
     "text": [
      "       Unnamed: 0  file_id                                              tweet  \\\n",
      "0               0      0.0  b'RT @KathrynTewson: Worked for gamergate, too...   \n",
      "1               1      2.0  b'Worked for gamergate, too, albeit in a diffe...   \n",
      "2               3      4.0  b'Real hot shit how some women are still upset...   \n",
      "3               4      5.0  b'RT @Lyde15: I regret to inform you that Game...   \n",
      "4               5      6.0  b'RT @TheRalphRetort: Based. Sounds way cooler...   \n",
      "...           ...      ...                                                ...   \n",
      "36530       47146     13.0  b\"Celina isn't the only Mexican in #ComicsGate...   \n",
      "36531       47147     14.0  b'@VeronicaAwakens Myself and other women have...   \n",
      "36532       47149      0.0  b\"@GeekyBugle01 @chibicelina @justsomeguycc LO...   \n",
      "36533       47172      4.0  b'@ConjuringSigns It would be difficult to sme...   \n",
      "36534       47178      0.0  b'@politicalawake Yep. Wanting ethics from jou...   \n",
      "\n",
      "           tweet_id             user  followers_count  friends_count  \\\n",
      "0      1.429476e+18      Kareshy_luv            545.0          318.0   \n",
      "1      1.429475e+18    KathrynTewson           3161.0          847.0   \n",
      "2      1.429473e+18      MrCodeman93            399.0          614.0   \n",
      "3      1.429473e+18           WJW440            386.0          775.0   \n",
      "4      1.429473e+18      MrCodeman93            399.0          614.0   \n",
      "...             ...              ...              ...            ...   \n",
      "36530  1.431117e+18     GeekyBugle01           1312.0         1896.0   \n",
      "36531  1.431072e+18      immamoonkin            109.0          477.0   \n",
      "36532  1.431118e+18  Spike_VaIentine            286.0          666.0   \n",
      "36533  1.434776e+18    SwordOfGokkun            141.0          635.0   \n",
      "36534  1.434266e+18  GrumpyCatterman           2588.0         3153.0   \n",
      "\n",
      "       listed_count           created_at  favourites_count  ... lang  \\\n",
      "0               4.0  2014-02-06 03:06:28           88295.0  ...   en   \n",
      "1              33.0  2009-06-19 07:54:53          216765.0  ...   en   \n",
      "2              39.0  2012-12-29 17:02:28           54723.0  ...   en   \n",
      "3               1.0  2012-12-28 16:33:55           50833.0  ...   en   \n",
      "4              39.0  2012-12-29 17:02:28           54723.0  ...   en   \n",
      "...             ...                  ...               ...  ...  ...   \n",
      "36530          11.0  2015-11-01 22:08:18          110384.0  ...   en   \n",
      "36531           0.0  2021-05-08 04:38:17            6274.0  ...   en   \n",
      "36532           3.0  2019-12-17 02:30:24            8503.0  ...   en   \n",
      "36533           1.0  2021-04-11 23:54:44           23928.0  ...   en   \n",
      "36534          22.0  2012-04-01 18:22:44          200064.0  ...   en   \n",
      "\n",
      "                    source likes retweets favorite_count_tweets  \\\n",
      "0          Twitter Web App   0.0      2.0                   0.0   \n",
      "1       Twitter for iPhone   4.0      2.0                   4.0   \n",
      "2       Twitter for iPhone   0.0      0.0                   0.0   \n",
      "3      Twitter for Android   0.0     23.0                   0.0   \n",
      "4       Twitter for iPhone   0.0      4.0                   0.0   \n",
      "...                    ...   ...      ...                   ...   \n",
      "36530      Twitter Web App  13.0      4.0                  13.0   \n",
      "36531      Twitter Web App   2.0      0.0                   2.0   \n",
      "36532      Twitter Web App  17.0      2.0                  17.0   \n",
      "36533  Twitter for Android   0.0      0.0                   0.0   \n",
      "36534      Twitter Web App   5.0      1.0                   5.0   \n",
      "\n",
      "       in_reply_to_status_id_str  has_link  number_of_hashtags   hashtag_used  \\\n",
      "0                            NaN       1.0                 0.0      GamerGate   \n",
      "1                            NaN       1.0                 0.0      GamerGate   \n",
      "2                            NaN       0.0                 0.0      GamerGate   \n",
      "3                            NaN       1.0                 0.0      GamerGate   \n",
      "4                            NaN       1.0                 0.0      GamerGate   \n",
      "...                          ...       ...                 ...            ...   \n",
      "36530                        NaN       1.0                 3.0  notyourshield   \n",
      "36531               1.430709e+18       0.0                 1.0  notyourshield   \n",
      "36532               1.431117e+18       1.0                 0.0  notyourshield   \n",
      "36533               1.434469e+18       0.0                 1.0  notyourshield   \n",
      "36534               1.434263e+18       1.0                 0.0  notyourshield   \n",
      "\n",
      "                                              clean_text  \n",
      "0      RT KathrynTewson Worked for gamergate, too, al...  \n",
      "1      Worked for gamergate, too, albeit in a differe...  \n",
      "2      Real hot shit how some women are still upset o...  \n",
      "3      RT Lyde15 I regret to inform you that Gamergat...  \n",
      "4      RT TheRalphRetort Based Sounds way cooler to h...  \n",
      "...                                                  ...  \n",
      "36530  bCelina isn't the only Mexican in ComicsGate A...  \n",
      "36531  VeronicaAwakens Myself and other women have ca...  \n",
      "36532  bGeekyBugle01 chibicelina justsomeguycc LOL I ...  \n",
      "36533  ConjuringSigns It would be difficult to smear ...  \n",
      "36534  politicalawake Yep Wanting ethics from journal...  \n",
      "\n",
      "[36535 rows x 23 columns]\n"
     ]
    }
   ],
   "metadata": {}
  },
  {
   "cell_type": "code",
   "execution_count": 8,
   "source": [
    "tweets_df= tweets_df[[\"tweet_id\", \"clean_text\"]]"
   ],
   "outputs": [],
   "metadata": {}
  },
  {
   "cell_type": "code",
   "execution_count": 22,
   "source": [
    "pip install text2emotion"
   ],
   "outputs": [
    {
     "output_type": "stream",
     "name": "stdout",
     "text": [
      "Collecting text2emotion\n",
      "  Downloading text2emotion-0.0.5-py3-none-any.whl (57 kB)\n",
      "Requirement already satisfied: nltk in c:\\users\\stcavale\\appdata\\roaming\\python\\python37\\site-packages (from text2emotion) (3.5)\n",
      "Collecting emoji>=0.6.0\n",
      "  Downloading emoji-1.5.0.tar.gz (185 kB)\n",
      "Requirement already satisfied: click in c:\\users\\stcavale\\anaconda3\\lib\\site-packages (from nltk->text2emotion) (7.0)\n",
      "Requirement already satisfied: regex in c:\\users\\stcavale\\appdata\\roaming\\python\\python37\\site-packages (from nltk->text2emotion) (2020.7.14)\n",
      "Requirement already satisfied: joblib in c:\\users\\stcavale\\anaconda3\\lib\\site-packages (from nltk->text2emotion) (0.14.1)\n",
      "Requirement already satisfied: tqdm in c:\\users\\stcavale\\anaconda3\\lib\\site-packages (from nltk->text2emotion) (4.42.1)\n",
      "Building wheels for collected packages: emoji\n",
      "  Building wheel for emoji (setup.py): started\n",
      "  Building wheel for emoji (setup.py): finished with status 'done'\n",
      "  Created wheel for emoji: filename=emoji-1.5.0-py3-none-any.whl size=187445 sha256=3e6829a8826ea7a4ffc26b991047c4f6eca0b3baf0067024162c5931ec75857c\n",
      "  Stored in directory: c:\\users\\stcavale\\appdata\\local\\pip\\cache\\wheels\\db\\b5\\f6\\b39abf14e94b3d6640613bbe630a66c10ccf7a12882d064fb5\n",
      "Successfully built emoji\n",
      "Installing collected packages: emoji, text2emotion\n",
      "Successfully installed emoji-1.5.0 text2emotion-0.0.5\n",
      "Note: you may need to restart the kernel to use updated packages.\n"
     ]
    }
   ],
   "metadata": {}
  },
  {
   "cell_type": "code",
   "execution_count": 23,
   "source": [
    "import text2emotion as te"
   ],
   "outputs": [
    {
     "output_type": "stream",
     "name": "stderr",
     "text": [
      "[nltk_data] Downloading package stopwords to\n",
      "[nltk_data]     C:\\Users\\stcavale\\AppData\\Roaming\\nltk_data...\n",
      "[nltk_data]   Package stopwords is already up-to-date!\n",
      "[nltk_data] Downloading package punkt to\n",
      "[nltk_data]     C:\\Users\\stcavale\\AppData\\Roaming\\nltk_data...\n",
      "[nltk_data]   Package punkt is already up-to-date!\n",
      "[nltk_data] Downloading package wordnet to\n",
      "[nltk_data]     C:\\Users\\stcavale\\AppData\\Roaming\\nltk_data...\n",
      "[nltk_data]   Unzipping corpora\\wordnet.zip.\n"
     ]
    }
   ],
   "metadata": {}
  },
  {
   "cell_type": "code",
   "execution_count": 35,
   "source": [
    "te.get_emotion(tweets_df.loc[2,\"clean_text\"])\r\n",
    "#{'Happy': 0.0, 'Angry': 0.0, 'Surprise': 0.33, 'Sad': 0.5, 'Fear': 0.17}"
   ],
   "outputs": [
    {
     "output_type": "execute_result",
     "data": {
      "text/plain": [
       "{'Happy': 0.0, 'Angry': 0.0, 'Surprise': 0.33, 'Sad': 0.5, 'Fear': 0.17}"
      ]
     },
     "metadata": {},
     "execution_count": 35
    }
   ],
   "metadata": {}
  },
  {
   "cell_type": "code",
   "execution_count": 36,
   "source": [
    "tweets_df.loc[2,\"clean_text\"]"
   ],
   "outputs": [
    {
     "output_type": "execute_result",
     "data": {
      "text/plain": [
       "\"Real hot shit how some women are still upset over GamerGate when itxe2x80x99s been revealed time and time again that journalists and devs themselves were the real misogynists all along'\""
      ]
     },
     "metadata": {},
     "execution_count": 36
    }
   ],
   "metadata": {}
  },
  {
   "cell_type": "code",
   "execution_count": 2,
   "source": [
    "pip install textblob"
   ],
   "outputs": [
    {
     "output_type": "stream",
     "name": "stdout",
     "text": [
      "Collecting textblob\n",
      "  Downloading textblob-0.15.3-py2.py3-none-any.whl (636 kB)\n",
      "Requirement already satisfied: nltk>=3.1 in c:\\users\\stcavale\\appdata\\roaming\\python\\python37\\site-packages (from textblob) (3.5)\n",
      "Requirement already satisfied: regex in c:\\users\\stcavale\\appdata\\roaming\\python\\python37\\site-packages (from nltk>=3.1->textblob) (2020.7.14)\n",
      "Requirement already satisfied: joblib in c:\\users\\stcavale\\anaconda3\\lib\\site-packages (from nltk>=3.1->textblob) (0.14.1)\n",
      "Requirement already satisfied: tqdm in c:\\users\\stcavale\\anaconda3\\lib\\site-packages (from nltk>=3.1->textblob) (4.42.1)\n",
      "Requirement already satisfied: click in c:\\users\\stcavale\\anaconda3\\lib\\site-packages (from nltk>=3.1->textblob) (7.0)\n",
      "Installing collected packages: textblob\n",
      "Successfully installed textblob-0.15.3\n",
      "Note: you may need to restart the kernel to use updated packages.\n"
     ]
    }
   ],
   "metadata": {}
  },
  {
   "cell_type": "code",
   "execution_count": 3,
   "source": [
    "from textblob import TextBlob"
   ],
   "outputs": [],
   "metadata": {}
  },
  {
   "cell_type": "code",
   "execution_count": 21,
   "source": [
    "blob = TextBlob(tweets_df.loc[7,\"clean_text\"])"
   ],
   "outputs": [],
   "metadata": {}
  },
  {
   "cell_type": "code",
   "execution_count": 22,
   "source": [
    "for sentence in blob.sentences:\r\n",
    "    print(sentence.sentiment.polarity)\r\n",
    "\r\n",
    "#-0.2"
   ],
   "outputs": [
    {
     "output_type": "stream",
     "name": "stdout",
     "text": [
      "-0.2\n"
     ]
    }
   ],
   "metadata": {}
  },
  {
   "cell_type": "code",
   "execution_count": 23,
   "source": [
    "blob.sentences"
   ],
   "outputs": [
    {
     "output_type": "execute_result",
     "data": {
      "text/plain": [
       "[Sentence(\"Evolutionistrue sciam Worse is when science journals pull this I cancelled my subscription to Nature after they published an article on gamergate that read like it was strait out of buzzfeednThe next article was about pronouns and there was a proislamic creationist one too n\")]"
      ]
     },
     "metadata": {},
     "execution_count": 23
    }
   ],
   "metadata": {}
  }
 ],
 "metadata": {
  "orig_nbformat": 4,
  "language_info": {
   "name": "python",
   "version": "3.7.6",
   "mimetype": "text/x-python",
   "codemirror_mode": {
    "name": "ipython",
    "version": 3
   },
   "pygments_lexer": "ipython3",
   "nbconvert_exporter": "python",
   "file_extension": ".py"
  },
  "kernelspec": {
   "name": "python3",
   "display_name": "Python 3.7.6 64-bit ('base': conda)"
  },
  "interpreter": {
   "hash": "cbbb9a64443451ac3eb262450c6a27f01f2a49230e429659ad55389fec37ae7c"
  }
 },
 "nbformat": 4,
 "nbformat_minor": 2
}